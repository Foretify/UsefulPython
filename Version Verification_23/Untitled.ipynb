{
 "cells": [
  {
   "cell_type": "code",
   "execution_count": 1,
   "metadata": {},
   "outputs": [],
   "source": [
    "# generate_requirements.py\n",
    "import subprocess\n",
    "from datetime import datetime\n",
    "\n",
    "def create_requirements_file():\n",
    "    # Get the current date and time\n",
    "    timestamp = datetime.now().strftime(\"%Y-%m-%d %H:%M:%S\")\n",
    "    print(f'Date written to file: {timestamp}')\n",
    "    \n",
    "    with open(\"requirements.txt\", \"w\") as f:\n",
    "        # Write a comment line with the timestamp\n",
    "        f.write(f\"# Requirements file created on: {timestamp}\\n\\n\")\n",
    "        # Capture installed packages and versions\n",
    "        subprocess.run([\"pip\", \"freeze\"], stdout=f)\n"
   ]
  },
  {
   "cell_type": "code",
   "execution_count": 2,
   "metadata": {},
   "outputs": [
    {
     "name": "stdout",
     "output_type": "stream",
     "text": [
      "Date written to file: 2024-11-14 14:37:18\n",
      "requirements.txt has been created with all installed packages, versions, and timestamp.\n"
     ]
    }
   ],
   "source": [
    "create_requirements_file()\n",
    "print(\"requirements.txt has been created with all installed packages, versions, and timestamp.\")"
   ]
  },
  {
   "cell_type": "code",
   "execution_count": null,
   "metadata": {},
   "outputs": [],
   "source": []
  }
 ],
 "metadata": {
  "kernelspec": {
   "display_name": "Python 3",
   "language": "python",
   "name": "python3"
  },
  "language_info": {
   "codemirror_mode": {
    "name": "ipython",
    "version": 3
   },
   "file_extension": ".py",
   "mimetype": "text/x-python",
   "name": "python",
   "nbconvert_exporter": "python",
   "pygments_lexer": "ipython3",
   "version": "3.7.6"
  }
 },
 "nbformat": 4,
 "nbformat_minor": 4
}
