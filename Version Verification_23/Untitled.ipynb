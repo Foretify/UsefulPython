{
 "cells": [
  {
   "cell_type": "code",
   "execution_count": 1,
   "metadata": {},
   "outputs": [
    {
     "name": "stdout",
     "output_type": "stream",
     "text": [
      "requirements.txt has been created with all installed packages and versions.\n"
     ]
    }
   ],
   "source": [
    "# generate_requirements.py\n",
    "import subprocess\n",
    "\n",
    "def create_requirements_file():\n",
    "    with open(\"requirements.txt\", \"w\") as f:\n",
    "        subprocess.run([\"pip\", \"freeze\"], stdout=f)\n",
    "\n",
    "if __name__ == \"__main__\":\n",
    "    create_requirements_file()\n",
    "    print(\"requirements.txt has been created with all installed packages and versions.\")\n"
   ]
  },
  {
   "cell_type": "code",
   "execution_count": null,
   "metadata": {},
   "outputs": [],
   "source": []
  }
 ],
 "metadata": {
  "kernelspec": {
   "display_name": "Python 3",
   "language": "python",
   "name": "python3"
  },
  "language_info": {
   "codemirror_mode": {
    "name": "ipython",
    "version": 3
   },
   "file_extension": ".py",
   "mimetype": "text/x-python",
   "name": "python",
   "nbconvert_exporter": "python",
   "pygments_lexer": "ipython3",
   "version": "3.7.6"
  }
 },
 "nbformat": 4,
 "nbformat_minor": 4
}
