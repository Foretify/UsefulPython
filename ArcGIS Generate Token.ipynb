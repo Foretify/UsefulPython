{
 "cells": [
  {
   "cell_type": "markdown",
   "metadata": {},
   "source": [
    "### Importing libraries and custom functions"
   ]
  },
  {
   "cell_type": "code",
   "execution_count": null,
   "metadata": {},
   "outputs": [],
   "source": [
    "import requests\n",
    "from arcgis.gis import GIS\n",
    "from arcgis.features import GeoAccessor, summarize_data, FeatureLayer\n",
    "from arcgis.mapping import WebMap\n",
    "\n",
    "def get_gis_item(item_id, gis):\n",
    "\n",
    "    item = gis.content.get(item_id)\n",
    "\n",
    "    if not item:\n",
    "        raise Exception(f'Input Item ID Not Found in GIS: {item_id}')\n",
    "    else:\n",
    "        return item"
   ]
  },
  {
   "cell_type": "markdown",
   "metadata": {},
   "source": [
    "### Parameters"
   ]
  },
  {
   "cell_type": "code",
   "execution_count": null,
   "metadata": {},
   "outputs": [],
   "source": [
    "arcgis_org_url=\"https://www.arcgis.com\"\n",
    "username=\"ENTER USERNAME\"\n",
    "password=\"ENTER PASSWORD\"#getpass.getpass(\"Enter Password: \")"
   ]
  },
  {
   "cell_type": "markdown",
   "metadata": {},
   "source": [
    "### Generate Token from the generateToken Endpoint"
   ]
  },
  {
   "cell_type": "code",
   "execution_count": null,
   "metadata": {},
   "outputs": [],
   "source": [
    "url = 'https://www.arcgis.com/sharing/rest/generateToken'\n",
    "payload = {\n",
    "    'f': 'json',\n",
    "    'username': username,\n",
    "    'password': password,\n",
    "    'client': 'referer',\n",
    "    'referer': arcgis_org_url,\n",
    "    'expiration': 60\n",
    "}\n",
    "r = requests.post(url, data=payload)\n",
    "token = r.json()['token']\n",
    "print(f'Token generated from endpoint:\\n{token}')"
   ]
  },
  {
   "cell_type": "code",
   "execution_count": null,
   "metadata": {},
   "outputs": [],
   "source": [
    "gis = GIS(token=token, referer=arcgis_org_url)\n",
    "print(\"Successfully logged in as: \" + gis.properties.user.username)"
   ]
  },
  {
   "cell_type": "code",
   "execution_count": null,
   "metadata": {},
   "outputs": [],
   "source": [
    "item = get_gis_item('223b4a90ce94cc982190c7d820b351', gis)"
   ]
  }
 ],
 "metadata": {
  "kernelspec": {
   "display_name": "Python 3",
   "language": "python",
   "name": "python3"
  },
  "language_info": {
   "codemirror_mode": {
    "name": "ipython",
    "version": 3
   },
   "file_extension": ".py",
   "mimetype": "text/x-python",
   "name": "python",
   "nbconvert_exporter": "python",
   "pygments_lexer": "ipython3",
   "version": "3.8.5"
  }
 },
 "nbformat": 4,
 "nbformat_minor": 4
}
