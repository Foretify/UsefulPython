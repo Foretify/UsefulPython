{
 "cells": [
  {
   "cell_type": "code",
   "execution_count": null,
   "id": "9352a5cf",
   "metadata": {},
   "outputs": [],
   "source": [
    "h3.h3_to_geo(h3_id)[1]"
   ]
  },
  {
   "cell_type": "code",
   "execution_count": 1,
   "id": "e9a49aa5",
   "metadata": {},
   "outputs": [],
   "source": [
    "import h3\n",
    "from shapely.geometry import Polygon, Point\n",
    "import shapely.wkt\n",
    "import pandas as pd\n",
    "import geopandas as gpd"
   ]
  },
  {
   "cell_type": "code",
   "execution_count": 30,
   "id": "989f8c4b",
   "metadata": {},
   "outputs": [],
   "source": [
    "def get_hex_grid_info(lat: int, long: int, resolution):\n",
    "    '''\n",
    "    Given a lat long and a hex grid resolution scale we are able to create a hex grid, which \n",
    "    outputs as a dictionary.\n",
    "    '''\n",
    "    h3_id = h3.geo_to_h3(lat=lat,lng=long,resolution=resolution)\n",
    "    return {\n",
    "       #\"input coords\": [lat, long, resolution]\n",
    "       #\"hash_simple\": h3_id,\n",
    "       \"index\": 0,\n",
    "       \"hash\": h3.geo_to_h3(lat=lat,lng=long,resolution=resolution),\n",
    "       \"lat\" : h3.h3_to_geo(h3_id)[0], \n",
    "       \"long\" : h3.h3_to_geo(h3_id)[1], \n",
    "       \"center_coords\" : h3.h3_to_geo(h3_id), \n",
    "       \"geometry\" : Polygon(h3.h3_to_geo_boundary(h3_id, geo_json=True)), \n",
    "        #\"parent\" : h3.h3_to_parent(h3_id), \n",
    "        #\"children\" : h3.h3_to_children(h3_id)\n",
    "    }\n"
   ]
  },
  {
   "cell_type": "code",
   "execution_count": 31,
   "id": "faae1817",
   "metadata": {},
   "outputs": [
    {
     "data": {
      "text/plain": [
       "{'index': 0,\n",
       " 'hash': '8743accf5ffffff',\n",
       " 'lat': 25.320096423316798,\n",
       " 'long': 55.4536270319814,\n",
       " 'center_coords': (25.320096423316798, 55.4536270319814),\n",
       " 'geometry': <shapely.geometry.polygon.Polygon at 0x2aca75e0748>}"
      ]
     },
     "execution_count": 31,
     "metadata": {},
     "output_type": "execute_result"
    }
   ],
   "source": [
    "a = get_hex_grid_info(25.32,55.46,7)\n",
    "a"
   ]
  },
  {
   "cell_type": "code",
   "execution_count": 35,
   "id": "537db5f2",
   "metadata": {},
   "outputs": [
    {
     "data": {
      "text/html": [
       "<div>\n",
       "<style scoped>\n",
       "    .dataframe tbody tr th:only-of-type {\n",
       "        vertical-align: middle;\n",
       "    }\n",
       "\n",
       "    .dataframe tbody tr th {\n",
       "        vertical-align: top;\n",
       "    }\n",
       "\n",
       "    .dataframe thead th {\n",
       "        text-align: right;\n",
       "    }\n",
       "</style>\n",
       "<table border=\"1\" class=\"dataframe\">\n",
       "  <thead>\n",
       "    <tr style=\"text-align: right;\">\n",
       "      <th></th>\n",
       "      <th>index</th>\n",
       "      <th>hash</th>\n",
       "      <th>lat</th>\n",
       "      <th>long</th>\n",
       "      <th>center_coords</th>\n",
       "      <th>geometry</th>\n",
       "    </tr>\n",
       "  </thead>\n",
       "  <tbody>\n",
       "    <tr>\n",
       "      <th>0</th>\n",
       "      <td>0</td>\n",
       "      <td>8743accf5ffffff</td>\n",
       "      <td>25.320096</td>\n",
       "      <td>55.453627</td>\n",
       "      <td>25.320096</td>\n",
       "      <td>POLYGON ((55.44002 25.31919, 55.44865 25.30945...</td>\n",
       "    </tr>\n",
       "  </tbody>\n",
       "</table>\n",
       "</div>"
      ],
      "text/plain": [
       "   index             hash        lat       long  center_coords  \\\n",
       "0      0  8743accf5ffffff  25.320096  55.453627      25.320096   \n",
       "\n",
       "                                            geometry  \n",
       "0  POLYGON ((55.44002 25.31919, 55.44865 25.30945...  "
      ]
     },
     "execution_count": 35,
     "metadata": {},
     "output_type": "execute_result"
    }
   ],
   "source": [
    "\n",
    "poly_a = gpd.GeoDataFrame(a, geometry='geometry', crs =\"EPSG:4326\")\n",
    "update_df = poly_a.drop(1)\n",
    "update_df"
   ]
  },
  {
   "cell_type": "code",
   "execution_count": null,
   "id": "bb75abd0",
   "metadata": {},
   "outputs": [],
   "source": [
    "poly_a.to_file(filename='poly_hex.zip', driver='ESRI Shapefile')"
   ]
  },
  {
   "cell_type": "code",
   "execution_count": null,
   "id": "c73a5df9",
   "metadata": {},
   "outputs": [],
   "source": []
  },
  {
   "cell_type": "code",
   "execution_count": null,
   "id": "32d3edcc",
   "metadata": {},
   "outputs": [],
   "source": []
  },
  {
   "cell_type": "code",
   "execution_count": null,
   "id": "c2abf191",
   "metadata": {},
   "outputs": [],
   "source": [
    "# Create a Shapely polygon from the coordinate-tuple list\n",
    "ply_coord = Polygon(s)\n",
    "\n",
    "# create a dictionary with needed attributes and required geometry column\n",
    "df = {'Attribute': ['name1'], 'geometry': ply_coord}\n",
    "\n",
    "# Convert shapely object to a geodataframe \n",
    "poly = gpd.GeoDataFrame(df, geometry='geometry', crs =\"EPSG:4326\")\n",
    "# Write the gpd to a shapefile\n",
    "poly.to_file(filename='myshapefile.zip', driver='ESRI Shapefile')\n",
    "# Let's see what we have\n",
    "poly.plot()"
   ]
  },
  {
   "cell_type": "code",
   "execution_count": null,
   "id": "2b3eee89",
   "metadata": {},
   "outputs": [],
   "source": [
    "\n",
    "for i in a['children']:\n",
    "    c = h3.h3_to_geo(i)\n",
    "    coord = Polygon(h3.h3_to_geo_boundary(i, geo_json=True)).wkt\n",
    "    print(i)\n",
    "    print(c)\n",
    "    print(coord)\n",
    "    print('-------------')\n",
    "    "
   ]
  },
  {
   "cell_type": "code",
   "execution_count": null,
   "id": "7e673f5b",
   "metadata": {},
   "outputs": [],
   "source": [
    "### Get the grid hash of a hexagon grid\n",
    "def get_hex_grid_hash(lat: int, long: int, resolution):\n",
    "    return{\n",
    "        \"hash\" : h3.geo_to_h3(lat=25.32,lng=55.46,resolution=7)\n",
    "    }\n",
    "    \n",
    "def output_h3_id_attributes(h3_id):\n",
    "    return {\n",
    "        \"co_ordinates\" : h3.h3_to_geo(h3_id), \n",
    "        \"geo_boundary\" : Polygon(h3.h3_to_geo_boundary(h3_id, geo_json=True)).wkt, \n",
    "        \"parent\" : h3.h3_to_parent(h3_id), \n",
    "        \"children\" : h3.h3_to_children(h3_id)\n",
    "    }  "
   ]
  },
  {
   "cell_type": "code",
   "execution_count": null,
   "id": "bb434786",
   "metadata": {},
   "outputs": [],
   "source": [
    "a = get_hex_grid_hash(25.32,55.46,7)\n",
    "hash = a['hash']\n",
    "hash\n",
    "print(a)\n",
    "b = get_hex_grid_info(25.32,55.46,7)\n",
    "print(b)"
   ]
  },
  {
   "cell_type": "code",
   "execution_count": null,
   "id": "d604457c",
   "metadata": {},
   "outputs": [],
   "source": [
    "b= output_h3_id_attributes(hash)"
   ]
  },
  {
   "cell_type": "code",
   "execution_count": null,
   "id": "81a4f976",
   "metadata": {},
   "outputs": [],
   "source": [
    "b.keys()\n"
   ]
  },
  {
   "cell_type": "code",
   "execution_count": null,
   "id": "8fb1052c",
   "metadata": {},
   "outputs": [],
   "source": [
    "long = b['co_ordinates'][1]"
   ]
  },
  {
   "cell_type": "code",
   "execution_count": 9,
   "id": "f2146132",
   "metadata": {},
   "outputs": [],
   "source": [
    "h3_id = \"8843a13687fffff\"\n",
    "h3.k_ring(h3_id,15)\n",
    "#h3.k_ring(h3_id,2)\n",
    "#h3.k_ring(h3_id,10)\n",
    "\n",
    "#Input a center coordinate and the number of rings\n",
    "def create_hexs(h3_id: str,number_of_rings:int):\n",
    "    if  number_of_rings == 1:\n",
    "        r1 = h3.k_ring(h3_id,1)\n",
    "        rings = append.r1\n",
    "    if  number_of_rings == 2:\n",
    "        r1 = h3.k_ring(h3_id,1)\n",
    "        r2 = h3.k_ring(h3_id,2)\n",
    "    \n",
    "        \n",
    "        \n",
    "    return{\n",
    "        'range': r1\n",
    "    }"
   ]
  },
  {
   "cell_type": "code",
   "execution_count": 10,
   "id": "27f7b260",
   "metadata": {},
   "outputs": [
    {
     "data": {
      "text/plain": [
       "{'range': {'8843a13681fffff',\n",
       "  '8843a13683fffff',\n",
       "  '8843a13685fffff',\n",
       "  '8843a13687fffff',\n",
       "  '8843a136abfffff',\n",
       "  '8843a136b9fffff',\n",
       "  '8843a136bdfffff'}}"
      ]
     },
     "execution_count": 10,
     "metadata": {},
     "output_type": "execute_result"
    }
   ],
   "source": [
    "create_hexs(\"8843a13687fffff\",1)"
   ]
  },
  {
   "cell_type": "code",
   "execution_count": null,
   "id": "af4f8753",
   "metadata": {},
   "outputs": [],
   "source": [
    "h3.k_ring(h3_id,15)"
   ]
  },
  {
   "cell_type": "code",
   "execution_count": null,
   "id": "ca2a7c42",
   "metadata": {},
   "outputs": [],
   "source": [
    "import shutil\n",
    "import tempfile\n",
    "from pathlib import Path"
   ]
  },
  {
   "cell_type": "code",
   "execution_count": null,
   "id": "535d2e31",
   "metadata": {},
   "outputs": [],
   "source": [
    "import pandas as pd\n",
    "import geopandas as gpd\n",
    "from shapely.geometry import Point"
   ]
  },
  {
   "cell_type": "code",
   "execution_count": null,
   "id": "398087e9",
   "metadata": {},
   "outputs": [],
   "source": [
    "coords = [(0, 0), (0, -1), (7.5, -1), [7.5, 0], (0, 0)]\n",
    "shapely.geometry.Polygon(coords)"
   ]
  },
  {
   "cell_type": "code",
   "execution_count": null,
   "id": "67df560d",
   "metadata": {},
   "outputs": [],
   "source": [
    "a = shapely.geometry.Polygon(coords)"
   ]
  },
  {
   "cell_type": "code",
   "execution_count": null,
   "id": "2ab4995e",
   "metadata": {},
   "outputs": [],
   "source": [
    "a"
   ]
  },
  {
   "cell_type": "code",
   "execution_count": null,
   "id": "05cc7d2a",
   "metadata": {},
   "outputs": [],
   "source": []
  },
  {
   "cell_type": "code",
   "execution_count": null,
   "id": "b33701d5",
   "metadata": {},
   "outputs": [],
   "source": [
    "from shapely.geometry import Point\n",
    "d = {'col1': ['name1', 'name2'], 'geometry': [Point(1, 2), Point(2, 1)]}\n",
    "gdf = gpd.GeoDataFrame(d, crs=\"EPSG:4326\")\n",
    "gdf"
   ]
  },
  {
   "cell_type": "code",
   "execution_count": null,
   "id": "e3156bd0",
   "metadata": {},
   "outputs": [],
   "source": [
    "d"
   ]
  },
  {
   "cell_type": "code",
   "execution_count": null,
   "id": "29e31cd5",
   "metadata": {},
   "outputs": [],
   "source": [
    "gdf"
   ]
  },
  {
   "cell_type": "code",
   "execution_count": null,
   "id": "9b360501",
   "metadata": {},
   "outputs": [],
   "source": [
    "type(gdf)"
   ]
  },
  {
   "cell_type": "code",
   "execution_count": null,
   "id": "49dedbe9",
   "metadata": {},
   "outputs": [],
   "source": [
    "gdf.to_file(filename='myshapefile.shp.zip', driver='ESRI Shapefile')"
   ]
  },
  {
   "cell_type": "code",
   "execution_count": null,
   "id": "cdd1de32",
   "metadata": {},
   "outputs": [],
   "source": [
    "a"
   ]
  },
  {
   "cell_type": "code",
   "execution_count": null,
   "id": "713b3a44",
   "metadata": {},
   "outputs": [],
   "source": [
    "d = {'col1': ['name1', 'name2'], 'geometry': [Point(1, 2), Point(2, 1)]}\n",
    "gdf = gpd.GeoDataFrame(d, crs=\"EPSG:4326\")"
   ]
  },
  {
   "cell_type": "code",
   "execution_count": null,
   "id": "47a6e61f",
   "metadata": {},
   "outputs": [],
   "source": [
    "gdf_a = gpd.GeoDataFrame(a, crs=\"EPSG:4326\")"
   ]
  },
  {
   "cell_type": "code",
   "execution_count": null,
   "id": "92614ac4",
   "metadata": {},
   "outputs": [],
   "source": [
    "gdf_a"
   ]
  },
  {
   "cell_type": "code",
   "execution_count": null,
   "id": "b5e208b3",
   "metadata": {},
   "outputs": [],
   "source": [
    "a"
   ]
  },
  {
   "cell_type": "code",
   "execution_count": null,
   "id": "54ba087e",
   "metadata": {},
   "outputs": [],
   "source": [
    "gdf_a.geometry"
   ]
  },
  {
   "cell_type": "code",
   "execution_count": null,
   "id": "f8f414c5",
   "metadata": {},
   "outputs": [],
   "source": [
    "s"
   ]
  },
  {
   "cell_type": "code",
   "execution_count": null,
   "id": "7c69bc65",
   "metadata": {},
   "outputs": [],
   "source": [
    "# list of coordindate pairs\n",
    "coordinates = [[ -77.0412826538086, 38.99570671505043 ], [ -77.11681365966797, 38.936713143230044 ], [ -77.01896667480469, 38.807610542357594],\n",
    "               [-76.90910339355469,  38.892636142310295]]           \n",
    "\n",
    "# Create a Shapely polygon from the coordinate-tuple list\n",
    "ply_coord = Polygon(s)\n",
    "\n",
    "# create a dictionary with needed attributes and required geometry column\n",
    "df = {'Attribute': ['name1'], 'geometry': ply_coord}\n",
    "\n",
    "# Convert shapely object to a geodataframe \n",
    "poly = gpd.GeoDataFrame(df, geometry='geometry', crs =\"EPSG:4326\")\n",
    "# Write the gpd to a shapefile\n",
    "poly.to_file(filename='myshapefile.zip', driver='ESRI Shapefile')\n",
    "# Let's see what we have\n",
    "poly.plot()"
   ]
  },
  {
   "cell_type": "code",
   "execution_count": null,
   "id": "04546ed2",
   "metadata": {},
   "outputs": [],
   "source": []
  },
  {
   "cell_type": "code",
   "execution_count": null,
   "id": "d7ed9d30",
   "metadata": {},
   "outputs": [],
   "source": []
  }
 ],
 "metadata": {
  "kernelspec": {
   "display_name": "Python 3 (ipykernel)",
   "language": "python",
   "name": "python3"
  },
  "language_info": {
   "codemirror_mode": {
    "name": "ipython",
    "version": 3
   },
   "file_extension": ".py",
   "mimetype": "text/x-python",
   "name": "python",
   "nbconvert_exporter": "python",
   "pygments_lexer": "ipython3",
   "version": "3.9.12"
  }
 },
 "nbformat": 4,
 "nbformat_minor": 5
}
