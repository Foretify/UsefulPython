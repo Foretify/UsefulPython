{
 "cells": [
  {
   "cell_type": "code",
   "execution_count": 1,
   "id": "bceb2d18",
   "metadata": {},
   "outputs": [],
   "source": [
    "import arcgis\n",
    "from arcgis.gis import GIS\n",
    "from optional import optional"
   ]
  },
  {
   "cell_type": "code",
   "execution_count": 5,
   "id": "9341af08",
   "metadata": {},
   "outputs": [],
   "source": [
    "def log_profile_info(gis):\n",
    "    '''\n",
    "    Output print statement that displays gis properties\n",
    "    '''\n",
    "    print(\"Successfully logged into '{}' via the user '{}'\".format(\n",
    "        gis.properties.portalHostname,\n",
    "        gis.properties.user.username))"
   ]
  },
  {
   "cell_type": "code",
   "execution_count": 11,
   "id": "fb6ff5e2",
   "metadata": {},
   "outputs": [],
   "source": [
    "\n",
    "def connect(org_url: str, login_name: str, user_password: str, profile_name: optional=None):\n",
    "    \"\"\"Authenticate and connect to an ArcGIS organization. The GIS is used to access, manage\n",
    "    and modify a users content.\n",
    "\n",
    "    Args:\n",
    "        org_url (str): This should be a web address to either an ArcGIS Enterprise portal or to ArcGIS Online in the \n",
    "                       form: <scheme>://<fully_qualified_domain_name>/<web_adaptor> (ArcGIS Enterprise example)\n",
    "        login_name (str): The login user name (case-sensitive).\n",
    "        user_password (str): If a username is provided, a password is expected. This is case-sensitive.\n",
    "        profile_name (str, optional): The name of the profile that the user wishes to use to authenticate, if set, \n",
    "                                      the identified profile will be used to login to the specified GIS. Defaults to None.\n",
    "    \"\"\"\n",
    "    if profile_name:\n",
    "        print(f'Attempting to connect with the credential profile, {profile_name}')\n",
    "        try:\n",
    "            gis = GIS(profile=profile_name)\n",
    "            log_profile_info(gis)\n",
    "            return gis\n",
    "        except Exception as e:\n",
    "            login_failed_message = f\"Unable to connect to {org_url} with the profile '{profile_name}'. Please check your credentials and try again.\"\n",
    "            print(login_failed_message)\n",
    "            return False\n",
    "    else:\n",
    "        print(f'No profile specified, attempting connection {org_url} using username: {login_name} and password')\n",
    "        try:\n",
    "            gis = GIS(url=org_url, username=login_name, password=user_password)\n",
    "            try: \n",
    "                log_profile_info(gis)\n",
    "            except Exception as e:\n",
    "                print('error: log_profile_info method is missing')\n",
    "            return gis\n",
    "        except Exception as e:\n",
    "            login_failed_message = f'Unable to connect to {org_url}. Please check your credentials and try again.'\n",
    "            print(login_failed_message)\n",
    "            return False"
   ]
  },
  {
   "cell_type": "code",
   "execution_count": 12,
   "id": "5e1198a3",
   "metadata": {},
   "outputs": [],
   "source": [
    "arcgis_org_url=\"https://foretify.maps.arcgis.com\"\n",
    "username= \"foretify_proton\"\n",
    "password='Zion2023!!'"
   ]
  },
  {
   "cell_type": "code",
   "execution_count": 13,
   "id": "faa011be",
   "metadata": {},
   "outputs": [
    {
     "name": "stdout",
     "output_type": "stream",
     "text": [
      "No profile specified, attempting connection https://foretify.maps.arcgis.com using username: foretify_proton and password\n",
      "Successfully logged into 'www.arcgis.com' via the user 'foretify_proton'\n"
     ]
    },
    {
     "data": {
      "text/html": [
       "GIS @ <a href=\"https://foretify.maps.arcgis.com\">https://foretify.maps.arcgis.com</a>"
      ],
      "text/plain": [
       "GIS @ https://foretify.maps.arcgis.com version:2023.3"
      ]
     },
     "execution_count": 13,
     "metadata": {},
     "output_type": "execute_result"
    }
   ],
   "source": [
    "connect(arcgis_org_url,username,password)"
   ]
  },
  {
   "cell_type": "code",
   "execution_count": null,
   "id": "1a68b5c2",
   "metadata": {},
   "outputs": [],
   "source": []
  }
 ],
 "metadata": {
  "kernelspec": {
   "display_name": "Python 3 (ipykernel)",
   "language": "python",
   "name": "python3"
  },
  "language_info": {
   "codemirror_mode": {
    "name": "ipython",
    "version": 3
   },
   "file_extension": ".py",
   "mimetype": "text/x-python",
   "name": "python",
   "nbconvert_exporter": "python",
   "pygments_lexer": "ipython3",
   "version": "3.9.13"
  }
 },
 "nbformat": 4,
 "nbformat_minor": 5
}
