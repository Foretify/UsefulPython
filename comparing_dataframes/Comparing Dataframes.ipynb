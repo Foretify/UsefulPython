{
 "cells": [
  {
   "cell_type": "code",
   "execution_count": 30,
   "id": "71f8b45f",
   "metadata": {},
   "outputs": [
    {
     "data": {
      "text/html": [
       "<div>\n",
       "<style scoped>\n",
       "    .dataframe tbody tr th:only-of-type {\n",
       "        vertical-align: middle;\n",
       "    }\n",
       "\n",
       "    .dataframe tbody tr th {\n",
       "        vertical-align: top;\n",
       "    }\n",
       "\n",
       "    .dataframe thead th {\n",
       "        text-align: right;\n",
       "    }\n",
       "</style>\n",
       "<table border=\"1\" class=\"dataframe\">\n",
       "  <thead>\n",
       "    <tr style=\"text-align: right;\">\n",
       "      <th></th>\n",
       "      <th>unique_id_column</th>\n",
       "      <th>column_a</th>\n",
       "    </tr>\n",
       "  </thead>\n",
       "  <tbody>\n",
       "    <tr>\n",
       "      <th>0</th>\n",
       "      <td>1</td>\n",
       "      <td>A</td>\n",
       "    </tr>\n",
       "    <tr>\n",
       "      <th>1</th>\n",
       "      <td>2</td>\n",
       "      <td>B</td>\n",
       "    </tr>\n",
       "  </tbody>\n",
       "</table>\n",
       "</div>"
      ],
      "text/plain": [
       "   unique_id_column column_a\n",
       "0                 1        A\n",
       "1                 2        B"
      ]
     },
     "execution_count": 30,
     "metadata": {},
     "output_type": "execute_result"
    }
   ],
   "source": [
    "import pandas as pd\n",
    "\n",
    "## The thrid database should look like this\n",
    "testing_data_fail = {'unique_id_column': [1,4],\n",
    "         'column_a': ['A', 'B']}\n",
    "testing_data_fail_df = pd.DataFrame(testing_data_fail)\n",
    "\n",
    "## The thrid database should look like this\n",
    "testing_data = {'unique_id_column': [1,2],\n",
    "         'column_a': ['A', 'B']}\n",
    "testing_df = pd.DataFrame(testing_data)\n",
    "\n",
    "# Sample data for df1\n",
    "data1 = {'unique_id_column': [1, 2, 3, 4, 5],\n",
    "         'column_a': ['A', 'B', 'C', 'D', 'E']}\n",
    "df1 = pd.DataFrame(data1)\n",
    "\n",
    "# Sample data for df2\n",
    "data2 = {'unique_id_column': [3, 4, 5, 6, 7],\n",
    "         'column_b': ['X', 'Y', 'Z', 'P', 'Q']}\n",
    "df2 = pd.DataFrame(data2)\n",
    "\n",
    "\n",
    "testing_df"
   ]
  },
  {
   "cell_type": "code",
   "execution_count": 31,
   "id": "045d4299",
   "metadata": {},
   "outputs": [
    {
     "data": {
      "text/html": [
       "<div>\n",
       "<style scoped>\n",
       "    .dataframe tbody tr th:only-of-type {\n",
       "        vertical-align: middle;\n",
       "    }\n",
       "\n",
       "    .dataframe tbody tr th {\n",
       "        vertical-align: top;\n",
       "    }\n",
       "\n",
       "    .dataframe thead th {\n",
       "        text-align: right;\n",
       "    }\n",
       "</style>\n",
       "<table border=\"1\" class=\"dataframe\">\n",
       "  <thead>\n",
       "    <tr style=\"text-align: right;\">\n",
       "      <th></th>\n",
       "      <th>unique_id_column</th>\n",
       "      <th>column_a</th>\n",
       "    </tr>\n",
       "  </thead>\n",
       "  <tbody>\n",
       "    <tr>\n",
       "      <th>0</th>\n",
       "      <td>1</td>\n",
       "      <td>A</td>\n",
       "    </tr>\n",
       "    <tr>\n",
       "      <th>1</th>\n",
       "      <td>4</td>\n",
       "      <td>B</td>\n",
       "    </tr>\n",
       "  </tbody>\n",
       "</table>\n",
       "</div>"
      ],
      "text/plain": [
       "   unique_id_column column_a\n",
       "0                 1        A\n",
       "1                 4        B"
      ]
     },
     "execution_count": 31,
     "metadata": {},
     "output_type": "execute_result"
    }
   ],
   "source": [
    "testing_data_fail_df"
   ]
  },
  {
   "cell_type": "code",
   "execution_count": 32,
   "id": "f4ca19c9",
   "metadata": {},
   "outputs": [
    {
     "data": {
      "text/html": [
       "<div>\n",
       "<style scoped>\n",
       "    .dataframe tbody tr th:only-of-type {\n",
       "        vertical-align: middle;\n",
       "    }\n",
       "\n",
       "    .dataframe tbody tr th {\n",
       "        vertical-align: top;\n",
       "    }\n",
       "\n",
       "    .dataframe thead th {\n",
       "        text-align: right;\n",
       "    }\n",
       "</style>\n",
       "<table border=\"1\" class=\"dataframe\">\n",
       "  <thead>\n",
       "    <tr style=\"text-align: right;\">\n",
       "      <th></th>\n",
       "      <th>unique_id_column</th>\n",
       "      <th>column_a</th>\n",
       "    </tr>\n",
       "  </thead>\n",
       "  <tbody>\n",
       "    <tr>\n",
       "      <th>0</th>\n",
       "      <td>1</td>\n",
       "      <td>A</td>\n",
       "    </tr>\n",
       "    <tr>\n",
       "      <th>1</th>\n",
       "      <td>2</td>\n",
       "      <td>B</td>\n",
       "    </tr>\n",
       "    <tr>\n",
       "      <th>2</th>\n",
       "      <td>3</td>\n",
       "      <td>C</td>\n",
       "    </tr>\n",
       "    <tr>\n",
       "      <th>3</th>\n",
       "      <td>4</td>\n",
       "      <td>D</td>\n",
       "    </tr>\n",
       "    <tr>\n",
       "      <th>4</th>\n",
       "      <td>5</td>\n",
       "      <td>E</td>\n",
       "    </tr>\n",
       "  </tbody>\n",
       "</table>\n",
       "</div>"
      ],
      "text/plain": [
       "   unique_id_column column_a\n",
       "0                 1        A\n",
       "1                 2        B\n",
       "2                 3        C\n",
       "3                 4        D\n",
       "4                 5        E"
      ]
     },
     "execution_count": 32,
     "metadata": {},
     "output_type": "execute_result"
    }
   ],
   "source": [
    "df1"
   ]
  },
  {
   "cell_type": "code",
   "execution_count": 33,
   "id": "0ef016ed",
   "metadata": {},
   "outputs": [
    {
     "data": {
      "text/html": [
       "<div>\n",
       "<style scoped>\n",
       "    .dataframe tbody tr th:only-of-type {\n",
       "        vertical-align: middle;\n",
       "    }\n",
       "\n",
       "    .dataframe tbody tr th {\n",
       "        vertical-align: top;\n",
       "    }\n",
       "\n",
       "    .dataframe thead th {\n",
       "        text-align: right;\n",
       "    }\n",
       "</style>\n",
       "<table border=\"1\" class=\"dataframe\">\n",
       "  <thead>\n",
       "    <tr style=\"text-align: right;\">\n",
       "      <th></th>\n",
       "      <th>unique_id_column</th>\n",
       "      <th>column_b</th>\n",
       "    </tr>\n",
       "  </thead>\n",
       "  <tbody>\n",
       "    <tr>\n",
       "      <th>0</th>\n",
       "      <td>3</td>\n",
       "      <td>X</td>\n",
       "    </tr>\n",
       "    <tr>\n",
       "      <th>1</th>\n",
       "      <td>4</td>\n",
       "      <td>Y</td>\n",
       "    </tr>\n",
       "    <tr>\n",
       "      <th>2</th>\n",
       "      <td>5</td>\n",
       "      <td>Z</td>\n",
       "    </tr>\n",
       "    <tr>\n",
       "      <th>3</th>\n",
       "      <td>6</td>\n",
       "      <td>P</td>\n",
       "    </tr>\n",
       "    <tr>\n",
       "      <th>4</th>\n",
       "      <td>7</td>\n",
       "      <td>Q</td>\n",
       "    </tr>\n",
       "  </tbody>\n",
       "</table>\n",
       "</div>"
      ],
      "text/plain": [
       "   unique_id_column column_b\n",
       "0                 3        X\n",
       "1                 4        Y\n",
       "2                 5        Z\n",
       "3                 6        P\n",
       "4                 7        Q"
      ]
     },
     "execution_count": 33,
     "metadata": {},
     "output_type": "execute_result"
    }
   ],
   "source": [
    "df2"
   ]
  },
  {
   "cell_type": "code",
   "execution_count": 34,
   "id": "89a03680",
   "metadata": {},
   "outputs": [
    {
     "data": {
      "text/html": [
       "<div>\n",
       "<style scoped>\n",
       "    .dataframe tbody tr th:only-of-type {\n",
       "        vertical-align: middle;\n",
       "    }\n",
       "\n",
       "    .dataframe tbody tr th {\n",
       "        vertical-align: top;\n",
       "    }\n",
       "\n",
       "    .dataframe thead th {\n",
       "        text-align: right;\n",
       "    }\n",
       "</style>\n",
       "<table border=\"1\" class=\"dataframe\">\n",
       "  <thead>\n",
       "    <tr style=\"text-align: right;\">\n",
       "      <th></th>\n",
       "      <th>unique_id_column</th>\n",
       "      <th>column_a</th>\n",
       "      <th>column_b</th>\n",
       "      <th>_merge</th>\n",
       "    </tr>\n",
       "  </thead>\n",
       "  <tbody>\n",
       "    <tr>\n",
       "      <th>3</th>\n",
       "      <td>6</td>\n",
       "      <td>NaN</td>\n",
       "      <td>P</td>\n",
       "      <td>right_only</td>\n",
       "    </tr>\n",
       "    <tr>\n",
       "      <th>4</th>\n",
       "      <td>7</td>\n",
       "      <td>NaN</td>\n",
       "      <td>Q</td>\n",
       "      <td>right_only</td>\n",
       "    </tr>\n",
       "  </tbody>\n",
       "</table>\n",
       "</div>"
      ],
      "text/plain": [
       "   unique_id_column column_a column_b      _merge\n",
       "3                 6      NaN        P  right_only\n",
       "4                 7      NaN        Q  right_only"
      ]
     },
     "execution_count": 34,
     "metadata": {},
     "output_type": "execute_result"
    }
   ],
   "source": [
    "\n",
    "# Find items missing in df2 but present in df1\n",
    "merged_df2 = df1.merge(df2, on='unique_id_column', how='right', indicator=True)\n",
    "missing_data_df2 = merged_df2[merged_df2['_merge'] == 'right_only']\n",
    "missing_data_df2"
   ]
  },
  {
   "cell_type": "code",
   "execution_count": 53,
   "id": "e09a91ba",
   "metadata": {},
   "outputs": [
    {
     "data": {
      "text/html": [
       "<div>\n",
       "<style scoped>\n",
       "    .dataframe tbody tr th:only-of-type {\n",
       "        vertical-align: middle;\n",
       "    }\n",
       "\n",
       "    .dataframe tbody tr th {\n",
       "        vertical-align: top;\n",
       "    }\n",
       "\n",
       "    .dataframe thead th {\n",
       "        text-align: right;\n",
       "    }\n",
       "</style>\n",
       "<table border=\"1\" class=\"dataframe\">\n",
       "  <thead>\n",
       "    <tr style=\"text-align: right;\">\n",
       "      <th></th>\n",
       "      <th>unique_id_column</th>\n",
       "      <th>column_a</th>\n",
       "    </tr>\n",
       "  </thead>\n",
       "  <tbody>\n",
       "    <tr>\n",
       "      <th>0</th>\n",
       "      <td>1</td>\n",
       "      <td>A</td>\n",
       "    </tr>\n",
       "    <tr>\n",
       "      <th>1</th>\n",
       "      <td>2</td>\n",
       "      <td>B</td>\n",
       "    </tr>\n",
       "  </tbody>\n",
       "</table>\n",
       "</div>"
      ],
      "text/plain": [
       "   unique_id_column column_a\n",
       "0                 1        A\n",
       "1                 2        B"
      ]
     },
     "execution_count": 53,
     "metadata": {},
     "output_type": "execute_result"
    }
   ],
   "source": [
    "# Find items missing in df1 but present in df2\n",
    "merged_df1 = df1.merge(df2, on='unique_id_column', how='left', indicator=True)\n",
    "missing_data_df1 = merged_df1[merged_df1['_merge'] == 'left_only']\n",
    "missing_data_df1= missing_data_df1.drop(['column_b', '_merge'], axis=1)\n",
    "missing_data_df1"
   ]
  },
  {
   "cell_type": "code",
   "execution_count": 59,
   "id": "3dc2cf45",
   "metadata": {},
   "outputs": [
    {
     "data": {
      "text/html": [
       "<div>\n",
       "<style scoped>\n",
       "    .dataframe tbody tr th:only-of-type {\n",
       "        vertical-align: middle;\n",
       "    }\n",
       "\n",
       "    .dataframe tbody tr th {\n",
       "        vertical-align: top;\n",
       "    }\n",
       "\n",
       "    .dataframe thead th {\n",
       "        text-align: right;\n",
       "    }\n",
       "</style>\n",
       "<table border=\"1\" class=\"dataframe\">\n",
       "  <thead>\n",
       "    <tr style=\"text-align: right;\">\n",
       "      <th></th>\n",
       "      <th>unique_id_column</th>\n",
       "      <th>column_a</th>\n",
       "      <th>column_b</th>\n",
       "      <th>_merge</th>\n",
       "    </tr>\n",
       "  </thead>\n",
       "  <tbody>\n",
       "    <tr>\n",
       "      <th>0</th>\n",
       "      <td>1</td>\n",
       "      <td>A</td>\n",
       "      <td>NaN</td>\n",
       "      <td>left_only</td>\n",
       "    </tr>\n",
       "    <tr>\n",
       "      <th>1</th>\n",
       "      <td>2</td>\n",
       "      <td>B</td>\n",
       "      <td>NaN</td>\n",
       "      <td>left_only</td>\n",
       "    </tr>\n",
       "  </tbody>\n",
       "</table>\n",
       "</div>"
      ],
      "text/plain": [
       "   unique_id_column column_a column_b     _merge\n",
       "0                 1        A      NaN  left_only\n",
       "1                 2        B      NaN  left_only"
      ]
     },
     "execution_count": 59,
     "metadata": {},
     "output_type": "execute_result"
    }
   ],
   "source": [
    "def create_missing_df(new_df:'str',gold_df:'str',column_id:'str' ):\n",
    "    new_df = df1\n",
    "    gold_df = df2\n",
    "    merged_df1 = df1.merge(df2, on='unique_id_column', how='left', indicator=True)\n",
    "    missing_data_df1 = merged_df1[merged_df1['_merge'] == 'left_only']\n",
    "    #missing_data_df1= missing_data_df1.drop(['column_b', '_merge'], axis=1)\n",
    "    return missing_data_df1\n",
    "\n",
    "create_missing_df(df1, df2,'unique_id_column')  "
   ]
  },
  {
   "cell_type": "code",
   "execution_count": 61,
   "id": "99db2b50",
   "metadata": {},
   "outputs": [
    {
     "data": {
      "text/html": [
       "<div>\n",
       "<style scoped>\n",
       "    .dataframe tbody tr th:only-of-type {\n",
       "        vertical-align: middle;\n",
       "    }\n",
       "\n",
       "    .dataframe tbody tr th {\n",
       "        vertical-align: top;\n",
       "    }\n",
       "\n",
       "    .dataframe thead th {\n",
       "        text-align: right;\n",
       "    }\n",
       "</style>\n",
       "<table border=\"1\" class=\"dataframe\">\n",
       "  <thead>\n",
       "    <tr style=\"text-align: right;\">\n",
       "      <th></th>\n",
       "      <th>unique_id_column</th>\n",
       "      <th>column_a</th>\n",
       "      <th>column_b</th>\n",
       "    </tr>\n",
       "  </thead>\n",
       "  <tbody>\n",
       "    <tr>\n",
       "      <th>0</th>\n",
       "      <td>1</td>\n",
       "      <td>A</td>\n",
       "      <td>NaN</td>\n",
       "    </tr>\n",
       "    <tr>\n",
       "      <th>1</th>\n",
       "      <td>2</td>\n",
       "      <td>B</td>\n",
       "      <td>NaN</td>\n",
       "    </tr>\n",
       "  </tbody>\n",
       "</table>\n",
       "</div>"
      ],
      "text/plain": [
       "   unique_id_column column_a column_b\n",
       "0                 1        A      NaN\n",
       "1                 2        B      NaN"
      ]
     },
     "execution_count": 61,
     "metadata": {},
     "output_type": "execute_result"
    }
   ],
   "source": [
    "import pandas as pd\n",
    "\n",
    "def create_missing_df(new_df, gold_df, column_id):\n",
    "    # Merge the two DataFrames on the specified column using a left join\n",
    "    merged_df = pd.merge(new_df, gold_df, on=column_id, how='left', indicator=True)\n",
    "    \n",
    "    # Filter for rows that are only in 'new_df'\n",
    "    missing_data_df = merged_df[merged_df['_merge'] == 'left_only']\n",
    "    \n",
    "    # Drop the '_merge' column if you don't need it\n",
    "    missing_data_df = missing_data_df.drop('_merge', axis=1)\n",
    "    \n",
    "    return missing_data_df\n",
    "\n",
    "# Example usage:\n",
    "# Assuming you have 'df1' and 'df2' DataFrames with a common column 'unique_id_column'\n",
    "# and you want to find missing items from 'df1' that are not in 'df2'\n",
    "missing_items_df = create_missing_df(df1, df2, 'unique_id_column')\n",
    "missing_items_df"
   ]
  },
  {
   "cell_type": "code",
   "execution_count": 63,
   "id": "5d4d3199",
   "metadata": {},
   "outputs": [
    {
     "data": {
      "text/html": [
       "<div>\n",
       "<style scoped>\n",
       "    .dataframe tbody tr th:only-of-type {\n",
       "        vertical-align: middle;\n",
       "    }\n",
       "\n",
       "    .dataframe tbody tr th {\n",
       "        vertical-align: top;\n",
       "    }\n",
       "\n",
       "    .dataframe thead th {\n",
       "        text-align: right;\n",
       "    }\n",
       "</style>\n",
       "<table border=\"1\" class=\"dataframe\">\n",
       "  <thead>\n",
       "    <tr style=\"text-align: right;\">\n",
       "      <th></th>\n",
       "      <th>unique_id_column</th>\n",
       "      <th>column_a</th>\n",
       "    </tr>\n",
       "  </thead>\n",
       "  <tbody>\n",
       "    <tr>\n",
       "      <th>0</th>\n",
       "      <td>1</td>\n",
       "      <td>A</td>\n",
       "    </tr>\n",
       "    <tr>\n",
       "      <th>1</th>\n",
       "      <td>2</td>\n",
       "      <td>B</td>\n",
       "    </tr>\n",
       "  </tbody>\n",
       "</table>\n",
       "</div>"
      ],
      "text/plain": [
       "   unique_id_column column_a\n",
       "0                 1        A\n",
       "1                 2        B"
      ]
     },
     "execution_count": 63,
     "metadata": {},
     "output_type": "execute_result"
    }
   ],
   "source": [
    "import pandas as pd\n",
    "\n",
    "def create_missing_df(new_df, gold_df, column_id):\n",
    "    # Merge the two DataFrames on the specified column using a left join\n",
    "    merged_df = pd.merge(new_df, gold_df, on=column_id, how='left', indicator=True)\n",
    "    \n",
    "    # Filter for rows that are only in 'new_df'\n",
    "    missing_data_df = merged_df[merged_df['_merge'] == 'left_only']\n",
    "    \n",
    "    # Drop the '_merge' column if you don't need it\n",
    "    missing_data_df = missing_data_df.drop('_merge', axis=1)\n",
    "    \n",
    "    # Select only the columns from 'new_df'\n",
    "    missing_data_df = missing_data_df[new_df.columns]\n",
    "    \n",
    "    return missing_data_df\n",
    "\n",
    "# Example usage:\n",
    "# Assuming you have 'df1' and 'df2' DataFrames with a common column 'unique_id_column'\n",
    "# and you want to find missing items from 'df1' that are not in 'df2'\n",
    "missing_items_df = create_missing_df(df1, df2, 'unique_id_column')\n",
    "missing_items_df"
   ]
  },
  {
   "cell_type": "code",
   "execution_count": 35,
   "id": "a48c0ce3",
   "metadata": {},
   "outputs": [
    {
     "name": "stdout",
     "output_type": "stream",
     "text": [
      "DataFrame df1:\n",
      "   unique_id_column column_a\n",
      "0                 1        A\n",
      "1                 2        B\n",
      "2                 3        C\n",
      "3                 4        D\n",
      "4                 5        E\n",
      "\n",
      "DataFrame df2:\n",
      "   unique_id_column column_b\n",
      "0                 3        X\n",
      "1                 4        Y\n",
      "2                 5        Z\n",
      "3                 6        P\n",
      "4                 7        Q\n",
      "\n",
      "DataFrame df3 (Items missing in one but present in the other):\n",
      "   unique_id_column column_a column_b      _merge\n",
      "0                 1        A      NaN   left_only\n",
      "1                 2        B      NaN   left_only\n",
      "3                 6      NaN        P  right_only\n",
      "4                 7      NaN        Q  right_only\n"
     ]
    }
   ],
   "source": [
    "\n",
    "\n",
    "\n",
    "\n",
    "# Concatenate missing_data_df1 and missing_data_df2 to create df3\n",
    "df3 = pd.concat([missing_data_df1, missing_data_df2])\n",
    "\n",
    "print(\"DataFrame df1:\")\n",
    "print(df1)\n",
    "\n",
    "print(\"\\nDataFrame df2:\")\n",
    "print(df2)\n",
    "\n",
    "print(\"\\nDataFrame df3 (Items missing in one but present in the other):\")\n",
    "print(df3)\n"
   ]
  },
  {
   "cell_type": "code",
   "execution_count": 36,
   "id": "e66048ee",
   "metadata": {},
   "outputs": [],
   "source": [
    "\n"
   ]
  },
  {
   "cell_type": "code",
   "execution_count": 37,
   "id": "338fc575",
   "metadata": {},
   "outputs": [
    {
     "data": {
      "text/html": [
       "<div>\n",
       "<style scoped>\n",
       "    .dataframe tbody tr th:only-of-type {\n",
       "        vertical-align: middle;\n",
       "    }\n",
       "\n",
       "    .dataframe tbody tr th {\n",
       "        vertical-align: top;\n",
       "    }\n",
       "\n",
       "    .dataframe thead th {\n",
       "        text-align: right;\n",
       "    }\n",
       "</style>\n",
       "<table border=\"1\" class=\"dataframe\">\n",
       "  <thead>\n",
       "    <tr style=\"text-align: right;\">\n",
       "      <th></th>\n",
       "      <th>unique_id_column</th>\n",
       "      <th>column_a</th>\n",
       "    </tr>\n",
       "  </thead>\n",
       "  <tbody>\n",
       "    <tr>\n",
       "      <th>0</th>\n",
       "      <td>1</td>\n",
       "      <td>A</td>\n",
       "    </tr>\n",
       "    <tr>\n",
       "      <th>1</th>\n",
       "      <td>2</td>\n",
       "      <td>B</td>\n",
       "    </tr>\n",
       "  </tbody>\n",
       "</table>\n",
       "</div>"
      ],
      "text/plain": [
       "   unique_id_column column_a\n",
       "0                 1        A\n",
       "1                 2        B"
      ]
     },
     "execution_count": 37,
     "metadata": {},
     "output_type": "execute_result"
    }
   ],
   "source": [
    "missing_data_df1"
   ]
  },
  {
   "cell_type": "code",
   "execution_count": 38,
   "id": "94f113bf",
   "metadata": {},
   "outputs": [
    {
     "data": {
      "text/html": [
       "<div>\n",
       "<style scoped>\n",
       "    .dataframe tbody tr th:only-of-type {\n",
       "        vertical-align: middle;\n",
       "    }\n",
       "\n",
       "    .dataframe tbody tr th {\n",
       "        vertical-align: top;\n",
       "    }\n",
       "\n",
       "    .dataframe thead th {\n",
       "        text-align: right;\n",
       "    }\n",
       "</style>\n",
       "<table border=\"1\" class=\"dataframe\">\n",
       "  <thead>\n",
       "    <tr style=\"text-align: right;\">\n",
       "      <th></th>\n",
       "      <th>unique_id_column</th>\n",
       "      <th>column_a</th>\n",
       "    </tr>\n",
       "  </thead>\n",
       "  <tbody>\n",
       "    <tr>\n",
       "      <th>0</th>\n",
       "      <td>1</td>\n",
       "      <td>A</td>\n",
       "    </tr>\n",
       "    <tr>\n",
       "      <th>1</th>\n",
       "      <td>2</td>\n",
       "      <td>B</td>\n",
       "    </tr>\n",
       "  </tbody>\n",
       "</table>\n",
       "</div>"
      ],
      "text/plain": [
       "   unique_id_column column_a\n",
       "0                 1        A\n",
       "1                 2        B"
      ]
     },
     "execution_count": 38,
     "metadata": {},
     "output_type": "execute_result"
    }
   ],
   "source": [
    "testing_df"
   ]
  },
  {
   "cell_type": "code",
   "execution_count": 50,
   "id": "20024031",
   "metadata": {},
   "outputs": [
    {
     "name": "stdout",
     "output_type": "stream",
     "text": [
      "True\n",
      "False\n",
      "Both testing elements have passed to include failing and passing\n"
     ]
    }
   ],
   "source": [
    "\n",
    "testing_pass = testing_df.equals(missing_data_df1)\n",
    "print(testing_pass)\n",
    "testing_fail = testing_data_fail_df.equals(missing_data_df1)\n",
    "print(testing_fail)\n",
    "\n",
    "if testing_pass == True and testing_fail == False: \n",
    "    print(\"Both testing elements have passed to include failing and passing\")\n",
    "else: \n",
    "    print(\"Oh no this doesnt work\")"
   ]
  },
  {
   "cell_type": "code",
   "execution_count": null,
   "id": "f6f099bc",
   "metadata": {},
   "outputs": [],
   "source": []
  }
 ],
 "metadata": {
  "kernelspec": {
   "display_name": "Python 3 (ipykernel)",
   "language": "python",
   "name": "python3"
  },
  "language_info": {
   "codemirror_mode": {
    "name": "ipython",
    "version": 3
   },
   "file_extension": ".py",
   "mimetype": "text/x-python",
   "name": "python",
   "nbconvert_exporter": "python",
   "pygments_lexer": "ipython3",
   "version": "3.9.13"
  }
 },
 "nbformat": 4,
 "nbformat_minor": 5
}
